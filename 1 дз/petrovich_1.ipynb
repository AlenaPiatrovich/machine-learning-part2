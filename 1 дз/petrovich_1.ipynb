{
  "nbformat": 4,
  "nbformat_minor": 0,
  "metadata": {
    "colab": {
      "name": "Untitled6.ipynb",
      "provenance": []
    },
    "kernelspec": {
      "name": "python3",
      "display_name": "Python 3"
    }
  },
  "cells": [
    {
      "cell_type": "markdown",
      "metadata": {
        "id": "irgIUw2rDJHj"
      },
      "source": [
        "#Домашнее задание 1"
      ]
    },
    {
      "cell_type": "markdown",
      "metadata": {
        "id": "RunEGM43DaFc"
      },
      "source": [
        "##Данные"
      ]
    },
    {
      "cell_type": "code",
      "metadata": {
        "id": "i9wC2AoVDXrF"
      },
      "source": [
        "import numpy as np\n",
        "import pandas as pd"
      ],
      "execution_count": 1,
      "outputs": []
    },
    {
      "cell_type": "code",
      "metadata": {
        "id": "YHIzLm-qDyLg"
      },
      "source": [
        "url1=\"http://archive.ics.uci.edu/ml/machine-learning-databases/iris/iris.data\"\n",
        "df=pd.read_csv(url1, header=None, names =  \n",
        "                     (\"sepal.length\",\"sepal.width\",\"petal.length\",\"petal.width\",    \n",
        "                     \"species\"))"
      ],
      "execution_count": 2,
      "outputs": []
    },
    {
      "cell_type": "code",
      "metadata": {
        "colab": {
          "base_uri": "https://localhost:8080/",
          "height": 424
        },
        "id": "khw9TotoFcFD",
        "outputId": "a0cc8db3-28a9-452e-9409-f192efc7605d"
      },
      "source": [
        "df"
      ],
      "execution_count": 3,
      "outputs": [
        {
          "output_type": "execute_result",
          "data": {
            "text/html": [
              "<div>\n",
              "<style scoped>\n",
              "    .dataframe tbody tr th:only-of-type {\n",
              "        vertical-align: middle;\n",
              "    }\n",
              "\n",
              "    .dataframe tbody tr th {\n",
              "        vertical-align: top;\n",
              "    }\n",
              "\n",
              "    .dataframe thead th {\n",
              "        text-align: right;\n",
              "    }\n",
              "</style>\n",
              "<table border=\"1\" class=\"dataframe\">\n",
              "  <thead>\n",
              "    <tr style=\"text-align: right;\">\n",
              "      <th></th>\n",
              "      <th>sepal.length</th>\n",
              "      <th>sepal.width</th>\n",
              "      <th>petal.length</th>\n",
              "      <th>petal.width</th>\n",
              "      <th>species</th>\n",
              "    </tr>\n",
              "  </thead>\n",
              "  <tbody>\n",
              "    <tr>\n",
              "      <th>0</th>\n",
              "      <td>5.1</td>\n",
              "      <td>3.5</td>\n",
              "      <td>1.4</td>\n",
              "      <td>0.2</td>\n",
              "      <td>Iris-setosa</td>\n",
              "    </tr>\n",
              "    <tr>\n",
              "      <th>1</th>\n",
              "      <td>4.9</td>\n",
              "      <td>3.0</td>\n",
              "      <td>1.4</td>\n",
              "      <td>0.2</td>\n",
              "      <td>Iris-setosa</td>\n",
              "    </tr>\n",
              "    <tr>\n",
              "      <th>2</th>\n",
              "      <td>4.7</td>\n",
              "      <td>3.2</td>\n",
              "      <td>1.3</td>\n",
              "      <td>0.2</td>\n",
              "      <td>Iris-setosa</td>\n",
              "    </tr>\n",
              "    <tr>\n",
              "      <th>3</th>\n",
              "      <td>4.6</td>\n",
              "      <td>3.1</td>\n",
              "      <td>1.5</td>\n",
              "      <td>0.2</td>\n",
              "      <td>Iris-setosa</td>\n",
              "    </tr>\n",
              "    <tr>\n",
              "      <th>4</th>\n",
              "      <td>5.0</td>\n",
              "      <td>3.6</td>\n",
              "      <td>1.4</td>\n",
              "      <td>0.2</td>\n",
              "      <td>Iris-setosa</td>\n",
              "    </tr>\n",
              "    <tr>\n",
              "      <th>...</th>\n",
              "      <td>...</td>\n",
              "      <td>...</td>\n",
              "      <td>...</td>\n",
              "      <td>...</td>\n",
              "      <td>...</td>\n",
              "    </tr>\n",
              "    <tr>\n",
              "      <th>145</th>\n",
              "      <td>6.7</td>\n",
              "      <td>3.0</td>\n",
              "      <td>5.2</td>\n",
              "      <td>2.3</td>\n",
              "      <td>Iris-virginica</td>\n",
              "    </tr>\n",
              "    <tr>\n",
              "      <th>146</th>\n",
              "      <td>6.3</td>\n",
              "      <td>2.5</td>\n",
              "      <td>5.0</td>\n",
              "      <td>1.9</td>\n",
              "      <td>Iris-virginica</td>\n",
              "    </tr>\n",
              "    <tr>\n",
              "      <th>147</th>\n",
              "      <td>6.5</td>\n",
              "      <td>3.0</td>\n",
              "      <td>5.2</td>\n",
              "      <td>2.0</td>\n",
              "      <td>Iris-virginica</td>\n",
              "    </tr>\n",
              "    <tr>\n",
              "      <th>148</th>\n",
              "      <td>6.2</td>\n",
              "      <td>3.4</td>\n",
              "      <td>5.4</td>\n",
              "      <td>2.3</td>\n",
              "      <td>Iris-virginica</td>\n",
              "    </tr>\n",
              "    <tr>\n",
              "      <th>149</th>\n",
              "      <td>5.9</td>\n",
              "      <td>3.0</td>\n",
              "      <td>5.1</td>\n",
              "      <td>1.8</td>\n",
              "      <td>Iris-virginica</td>\n",
              "    </tr>\n",
              "  </tbody>\n",
              "</table>\n",
              "<p>150 rows × 5 columns</p>\n",
              "</div>"
            ],
            "text/plain": [
              "     sepal.length  sepal.width  petal.length  petal.width         species\n",
              "0             5.1          3.5           1.4          0.2     Iris-setosa\n",
              "1             4.9          3.0           1.4          0.2     Iris-setosa\n",
              "2             4.7          3.2           1.3          0.2     Iris-setosa\n",
              "3             4.6          3.1           1.5          0.2     Iris-setosa\n",
              "4             5.0          3.6           1.4          0.2     Iris-setosa\n",
              "..            ...          ...           ...          ...             ...\n",
              "145           6.7          3.0           5.2          2.3  Iris-virginica\n",
              "146           6.3          2.5           5.0          1.9  Iris-virginica\n",
              "147           6.5          3.0           5.2          2.0  Iris-virginica\n",
              "148           6.2          3.4           5.4          2.3  Iris-virginica\n",
              "149           5.9          3.0           5.1          1.8  Iris-virginica\n",
              "\n",
              "[150 rows x 5 columns]"
            ]
          },
          "metadata": {
            "tags": []
          },
          "execution_count": 3
        }
      ]
    },
    {
      "cell_type": "code",
      "metadata": {
        "colab": {
          "base_uri": "https://localhost:8080/"
        },
        "id": "Mw1PaULBHYF8",
        "outputId": "33567c21-be5f-49e6-ead7-b0a1e905aa1f"
      },
      "source": [
        "set(df['species'])"
      ],
      "execution_count": 4,
      "outputs": [
        {
          "output_type": "execute_result",
          "data": {
            "text/plain": [
              "{'Iris-setosa', 'Iris-versicolor', 'Iris-virginica'}"
            ]
          },
          "metadata": {
            "tags": []
          },
          "execution_count": 4
        }
      ]
    },
    {
      "cell_type": "code",
      "metadata": {
        "id": "93QkPqreJnO-"
      },
      "source": [
        "def make_labels(x, species):\n",
        "    if x['species'] == species:\n",
        "        return 1\n",
        "    else:\n",
        "        return -1"
      ],
      "execution_count": 5,
      "outputs": []
    },
    {
      "cell_type": "code",
      "metadata": {
        "id": "-yceLd-UJAU_"
      },
      "source": [
        "df['label_setosa'] = df.apply(lambda x: make_labels(x,'Iris-setosa'), axis=1)\n",
        "df['label_versicolor'] = df.apply(lambda x: make_labels(x,'Iris-versicolor'), axis=1)\n",
        "df['label_virginica'] = df.apply(lambda x: make_labels(x,'Iris-virginica'), axis=1)"
      ],
      "execution_count": 6,
      "outputs": []
    },
    {
      "cell_type": "code",
      "metadata": {
        "colab": {
          "base_uri": "https://localhost:8080/",
          "height": 424
        },
        "id": "BrpGvXh8KW3t",
        "outputId": "636ac426-5d6c-4d23-b745-d93c6bc1362e"
      },
      "source": [
        "df"
      ],
      "execution_count": 7,
      "outputs": [
        {
          "output_type": "execute_result",
          "data": {
            "text/html": [
              "<div>\n",
              "<style scoped>\n",
              "    .dataframe tbody tr th:only-of-type {\n",
              "        vertical-align: middle;\n",
              "    }\n",
              "\n",
              "    .dataframe tbody tr th {\n",
              "        vertical-align: top;\n",
              "    }\n",
              "\n",
              "    .dataframe thead th {\n",
              "        text-align: right;\n",
              "    }\n",
              "</style>\n",
              "<table border=\"1\" class=\"dataframe\">\n",
              "  <thead>\n",
              "    <tr style=\"text-align: right;\">\n",
              "      <th></th>\n",
              "      <th>sepal.length</th>\n",
              "      <th>sepal.width</th>\n",
              "      <th>petal.length</th>\n",
              "      <th>petal.width</th>\n",
              "      <th>species</th>\n",
              "      <th>label_setosa</th>\n",
              "      <th>label_versicolor</th>\n",
              "      <th>label_virginica</th>\n",
              "    </tr>\n",
              "  </thead>\n",
              "  <tbody>\n",
              "    <tr>\n",
              "      <th>0</th>\n",
              "      <td>5.1</td>\n",
              "      <td>3.5</td>\n",
              "      <td>1.4</td>\n",
              "      <td>0.2</td>\n",
              "      <td>Iris-setosa</td>\n",
              "      <td>1</td>\n",
              "      <td>-1</td>\n",
              "      <td>-1</td>\n",
              "    </tr>\n",
              "    <tr>\n",
              "      <th>1</th>\n",
              "      <td>4.9</td>\n",
              "      <td>3.0</td>\n",
              "      <td>1.4</td>\n",
              "      <td>0.2</td>\n",
              "      <td>Iris-setosa</td>\n",
              "      <td>1</td>\n",
              "      <td>-1</td>\n",
              "      <td>-1</td>\n",
              "    </tr>\n",
              "    <tr>\n",
              "      <th>2</th>\n",
              "      <td>4.7</td>\n",
              "      <td>3.2</td>\n",
              "      <td>1.3</td>\n",
              "      <td>0.2</td>\n",
              "      <td>Iris-setosa</td>\n",
              "      <td>1</td>\n",
              "      <td>-1</td>\n",
              "      <td>-1</td>\n",
              "    </tr>\n",
              "    <tr>\n",
              "      <th>3</th>\n",
              "      <td>4.6</td>\n",
              "      <td>3.1</td>\n",
              "      <td>1.5</td>\n",
              "      <td>0.2</td>\n",
              "      <td>Iris-setosa</td>\n",
              "      <td>1</td>\n",
              "      <td>-1</td>\n",
              "      <td>-1</td>\n",
              "    </tr>\n",
              "    <tr>\n",
              "      <th>4</th>\n",
              "      <td>5.0</td>\n",
              "      <td>3.6</td>\n",
              "      <td>1.4</td>\n",
              "      <td>0.2</td>\n",
              "      <td>Iris-setosa</td>\n",
              "      <td>1</td>\n",
              "      <td>-1</td>\n",
              "      <td>-1</td>\n",
              "    </tr>\n",
              "    <tr>\n",
              "      <th>...</th>\n",
              "      <td>...</td>\n",
              "      <td>...</td>\n",
              "      <td>...</td>\n",
              "      <td>...</td>\n",
              "      <td>...</td>\n",
              "      <td>...</td>\n",
              "      <td>...</td>\n",
              "      <td>...</td>\n",
              "    </tr>\n",
              "    <tr>\n",
              "      <th>145</th>\n",
              "      <td>6.7</td>\n",
              "      <td>3.0</td>\n",
              "      <td>5.2</td>\n",
              "      <td>2.3</td>\n",
              "      <td>Iris-virginica</td>\n",
              "      <td>-1</td>\n",
              "      <td>-1</td>\n",
              "      <td>1</td>\n",
              "    </tr>\n",
              "    <tr>\n",
              "      <th>146</th>\n",
              "      <td>6.3</td>\n",
              "      <td>2.5</td>\n",
              "      <td>5.0</td>\n",
              "      <td>1.9</td>\n",
              "      <td>Iris-virginica</td>\n",
              "      <td>-1</td>\n",
              "      <td>-1</td>\n",
              "      <td>1</td>\n",
              "    </tr>\n",
              "    <tr>\n",
              "      <th>147</th>\n",
              "      <td>6.5</td>\n",
              "      <td>3.0</td>\n",
              "      <td>5.2</td>\n",
              "      <td>2.0</td>\n",
              "      <td>Iris-virginica</td>\n",
              "      <td>-1</td>\n",
              "      <td>-1</td>\n",
              "      <td>1</td>\n",
              "    </tr>\n",
              "    <tr>\n",
              "      <th>148</th>\n",
              "      <td>6.2</td>\n",
              "      <td>3.4</td>\n",
              "      <td>5.4</td>\n",
              "      <td>2.3</td>\n",
              "      <td>Iris-virginica</td>\n",
              "      <td>-1</td>\n",
              "      <td>-1</td>\n",
              "      <td>1</td>\n",
              "    </tr>\n",
              "    <tr>\n",
              "      <th>149</th>\n",
              "      <td>5.9</td>\n",
              "      <td>3.0</td>\n",
              "      <td>5.1</td>\n",
              "      <td>1.8</td>\n",
              "      <td>Iris-virginica</td>\n",
              "      <td>-1</td>\n",
              "      <td>-1</td>\n",
              "      <td>1</td>\n",
              "    </tr>\n",
              "  </tbody>\n",
              "</table>\n",
              "<p>150 rows × 8 columns</p>\n",
              "</div>"
            ],
            "text/plain": [
              "     sepal.length  sepal.width  ...  label_versicolor  label_virginica\n",
              "0             5.1          3.5  ...                -1               -1\n",
              "1             4.9          3.0  ...                -1               -1\n",
              "2             4.7          3.2  ...                -1               -1\n",
              "3             4.6          3.1  ...                -1               -1\n",
              "4             5.0          3.6  ...                -1               -1\n",
              "..            ...          ...  ...               ...              ...\n",
              "145           6.7          3.0  ...                -1                1\n",
              "146           6.3          2.5  ...                -1                1\n",
              "147           6.5          3.0  ...                -1                1\n",
              "148           6.2          3.4  ...                -1                1\n",
              "149           5.9          3.0  ...                -1                1\n",
              "\n",
              "[150 rows x 8 columns]"
            ]
          },
          "metadata": {
            "tags": []
          },
          "execution_count": 7
        }
      ]
    },
    {
      "cell_type": "markdown",
      "metadata": {
        "id": "zOILfMWvGwzF"
      },
      "source": [
        "Делим данные."
      ]
    },
    {
      "cell_type": "code",
      "metadata": {
        "id": "iCrtogV_LIxs"
      },
      "source": [
        "features_cols = ['sepal.length', 'sepal.width', 'petal.length', 'petal.width']"
      ],
      "execution_count": 8,
      "outputs": []
    },
    {
      "cell_type": "code",
      "metadata": {
        "id": "uR0B1vrUKyLI"
      },
      "source": [
        "X = np.array(df[features_cols])\n",
        "y_setosa = np.array(df['label_setosa'])\n",
        "y_versicolor = np.array(df['label_versicolor'])\n",
        "y_virginica = np.array(df['label_virginica'])"
      ],
      "execution_count": 9,
      "outputs": []
    },
    {
      "cell_type": "code",
      "metadata": {
        "id": "SoxAaPFGGvAq"
      },
      "source": [
        "from sklearn.model_selection import train_test_split\n",
        "\n",
        "X_train_setosa, X_test_setosa, y_train_setosa,  y_test_setosa = train_test_split(X, y_setosa, test_size=0.1, random_state=6)\n",
        "X_train_versicolor, X_test_versicolor, y_train_versicolor, y_test_versicolor = train_test_split(X, y_versicolor, test_size=0.1, random_state=6)\n",
        "X_train_virginica, X_test_virginica, y_train_virginica, y_test_virginica = train_test_split(X, y_virginica, test_size=0.1, random_state=6)"
      ],
      "execution_count": 10,
      "outputs": []
    },
    {
      "cell_type": "markdown",
      "metadata": {
        "id": "zDi9Q6SWQu5q"
      },
      "source": [
        "##Задание 1"
      ]
    },
    {
      "cell_type": "markdown",
      "metadata": {
        "id": "hWpxk57cEiiX"
      },
      "source": [
        "Функции для расчёта $L_i(w)$(без регуляризации) и $\\nabla L_i(w)$."
      ]
    },
    {
      "cell_type": "code",
      "metadata": {
        "id": "bbB-ptOzQt9J"
      },
      "source": [
        "def logistic_regression_loss(x, y, weights):\n",
        "    M = np.dot(x, weights) * y\n",
        "    return np.log(1 + np.exp(-M)) \n",
        "\n",
        "def gradient_logistic_regression(x, y, weights, reg):\n",
        "    M = np.dot(x, weights) * y\n",
        "    exponent = np.exp(-M)\n",
        "\n",
        "    return np.array([-y * x[t] * exponent / (1 + exponent) + 2 * reg * weights[t] for t in range(len(x))])\n"
      ],
      "execution_count": 12,
      "outputs": []
    },
    {
      "cell_type": "markdown",
      "metadata": {
        "id": "oyNSpzWC5fsX"
      },
      "source": [
        "Стохастический градиентный спуск (исп. лекции К.В. Воронцова):"
      ]
    },
    {
      "cell_type": "code",
      "metadata": {
        "id": "Ru7wtMooSPiy"
      },
      "source": [
        "def SGD(X_data, y_data, loss=logistic_regression_loss, gradient=gradient_logistic_regression, h=1e-2, reg=0.5):\n",
        "    eps = 1e-7\n",
        "    np.random.seed(16)\n",
        "    weights = np.random.random_sample(X_data.shape[1])\n",
        "    \n",
        "    Q = np.mean([loss(x, y, weights) for x, y in zip(X_data, y_data)]) + reg * np.sum(weights ** 2) \n",
        "    iter = 0\n",
        "\n",
        "    while True:\n",
        "        iter += 1\n",
        "\n",
        "        index = np.random.random_integers(len(X_data)) - 1\n",
        "        x = X_data[index]\n",
        "        eps_x = loss(x, y_data[index], weights)\n",
        "        grad_L = gradient(x, y_data[index], weights, reg)\n",
        "        prev_weights = weights\n",
        "        weights = weights - h * grad_L\n",
        "        prev_Q = Q\n",
        "        lam = 1 / iter\n",
        "        Q = lam * eps_x + (1 - lam) * Q\n",
        "        # print(f'index = {index}, Q = {Q}')\n",
        "\n",
        "        if abs(prev_Q - Q) < eps or np.all(np.absolute(weights - prev_weights) < eps) or  iter == 30000:\n",
        "            break\n",
        "\n",
        "    return weights\n",
        "\n"
      ],
      "execution_count": 35,
      "outputs": []
    },
    {
      "cell_type": "markdown",
      "metadata": {
        "id": "Uf0rQQQ_5kn3"
      },
      "source": [
        "Функция для классификации:"
      ]
    },
    {
      "cell_type": "code",
      "metadata": {
        "id": "cVikR_l9gTrW"
      },
      "source": [
        "def logistic_regression_classify(X_data, weights):\n",
        "    return np.sign([np.dot(x, weights) for x in X_data])"
      ],
      "execution_count": 15,
      "outputs": []
    },
    {
      "cell_type": "markdown",
      "metadata": {
        "id": "ovuHcLHw5sMx"
      },
      "source": [
        "Функция для подбора параметров:"
      ]
    },
    {
      "cell_type": "code",
      "metadata": {
        "id": "TE10WLTa1UJ3"
      },
      "source": [
        "h_vars = [1e-2, 1e-3, 1e-4, 1e-5]\n",
        "reg_vars = [0.1, 0.5, 1, 5]\n",
        "\n",
        "from sklearn.model_selection import KFold\n",
        "from sklearn.metrics import accuracy_score\n",
        "\n",
        "def count_test_accuracy(X_train_data, X_test_data, y_train_data, y_test_data, h, reg, algorithm):\n",
        "    weights = SGD(X_train_data, y_train_data, h=h, reg=reg)\n",
        "    return accuracy_score(y_test_data, logistic_regression_classify(X_test_data, weights))\n",
        "\n",
        "def choose_params(X_train_data, X_test_data, y_train_data, y_test_data, algorithm=SGD):\n",
        "    best_accuracy = 0.\n",
        "    best_params = {'h': None, 'reg': None}\n",
        "    for h in h_vars:\n",
        "        for reg in reg_vars:\n",
        "            accuracy_array=[]\n",
        "            cv = KFold(n_splits=5, random_state=42, shuffle=True)\n",
        "            for train_index, test_index in cv.split(y_train_data):\n",
        "                X_train, X_test = X_train_data[train_index], X_train_data[test_index]\n",
        "                y_train, y_test = y_train_data[train_index], y_train_data[test_index]\n",
        "                weights = algorithm(X_train, y_train, h=h, reg=reg)\n",
        "                acc = accuracy_score(y_test, logistic_regression_classify(X_test, weights))\n",
        "                accuracy_array.append(acc)\n",
        "            accuracy = np.mean(accuracy_array)\n",
        "\n",
        "            if accuracy > best_accuracy:\n",
        "                best_accuracy = accuracy\n",
        "                best_params = {'h': h, 'reg': reg}\n",
        "\n",
        "                if best_accuracy == 1.: \n",
        "                    return best_accuracy, count_test_accuracy(X_train_data, X_test_data, y_train_data, y_test_data, h, reg, algorithm), best_params\n",
        "            \n",
        "    return best_accuracy, count_test_accuracy(X_train_data, X_test_data, y_train_data, y_test_data, best_params['h'], best_params['reg'], algorithm), best_params\n",
        "                    \n",
        "\n"
      ],
      "execution_count": 62,
      "outputs": []
    },
    {
      "cell_type": "markdown",
      "metadata": {
        "id": "XBh0R9XG5GcQ"
      },
      "source": [
        "Результаты (первое значение - accuracy на кроссвалидации, второе - accuracy на тестовой выборке, третье - оптимальные параметры)."
      ]
    },
    {
      "cell_type": "code",
      "metadata": {
        "colab": {
          "base_uri": "https://localhost:8080/"
        },
        "id": "Nzon_X_T4UeQ",
        "outputId": "278c958b-1673-42c7-e066-32f9f4335736"
      },
      "source": [
        "choose_params(X_train_setosa, X_test_setosa, y_train_setosa, y_test_setosa)"
      ],
      "execution_count": 42,
      "outputs": [
        {
          "output_type": "stream",
          "text": [
            "/usr/local/lib/python3.6/dist-packages/ipykernel_launcher.py:12: DeprecationWarning: This function is deprecated. Please call randint(1, 108 + 1) instead\n",
            "  if sys.path[0] == '':\n",
            "/usr/local/lib/python3.6/dist-packages/ipykernel_launcher.py:12: DeprecationWarning: This function is deprecated. Please call randint(1, 135 + 1) instead\n",
            "  if sys.path[0] == '':\n"
          ],
          "name": "stderr"
        },
        {
          "output_type": "execute_result",
          "data": {
            "text/plain": [
              "(1.0, 1.0, {'h': 0.01, 'reg': 0.1})"
            ]
          },
          "metadata": {
            "tags": []
          },
          "execution_count": 42
        }
      ]
    },
    {
      "cell_type": "code",
      "metadata": {
        "colab": {
          "base_uri": "https://localhost:8080/"
        },
        "id": "WhdBDfma4qtO",
        "outputId": "131cfda0-e353-4c4b-c642-d5e2ceed9e8b"
      },
      "source": [
        "choose_params(X_train_versicolor, X_test_versicolor, y_train_versicolor, y_test_versicolor)"
      ],
      "execution_count": 43,
      "outputs": [
        {
          "output_type": "stream",
          "text": [
            "/usr/local/lib/python3.6/dist-packages/ipykernel_launcher.py:12: DeprecationWarning: This function is deprecated. Please call randint(1, 108 + 1) instead\n",
            "  if sys.path[0] == '':\n",
            "/usr/local/lib/python3.6/dist-packages/ipykernel_launcher.py:12: DeprecationWarning: This function is deprecated. Please call randint(1, 135 + 1) instead\n",
            "  if sys.path[0] == '':\n"
          ],
          "name": "stderr"
        },
        {
          "output_type": "execute_result",
          "data": {
            "text/plain": [
              "(0.6592592592592592, 0.7333333333333333, {'h': 0.0001, 'reg': 0.1})"
            ]
          },
          "metadata": {
            "tags": []
          },
          "execution_count": 43
        }
      ]
    },
    {
      "cell_type": "code",
      "metadata": {
        "colab": {
          "base_uri": "https://localhost:8080/"
        },
        "id": "OhYvYVDj4q4t",
        "outputId": "f947622e-3870-4e18-f914-514fe94adad7"
      },
      "source": [
        "choose_params(X_train_virginica, X_test_virginica, y_train_virginica, y_test_virginica)"
      ],
      "execution_count": 44,
      "outputs": [
        {
          "output_type": "stream",
          "text": [
            "/usr/local/lib/python3.6/dist-packages/ipykernel_launcher.py:12: DeprecationWarning: This function is deprecated. Please call randint(1, 108 + 1) instead\n",
            "  if sys.path[0] == '':\n",
            "/usr/local/lib/python3.6/dist-packages/ipykernel_launcher.py:12: DeprecationWarning: This function is deprecated. Please call randint(1, 135 + 1) instead\n",
            "  if sys.path[0] == '':\n"
          ],
          "name": "stderr"
        },
        {
          "output_type": "execute_result",
          "data": {
            "text/plain": [
              "(0.837037037037037, 0.8666666666666667, {'h': 0.001, 'reg': 0.1})"
            ]
          },
          "metadata": {
            "tags": []
          },
          "execution_count": 44
        }
      ]
    },
    {
      "cell_type": "markdown",
      "metadata": {
        "id": "w0ggG4Pp53_w"
      },
      "source": [
        "##Задание 2"
      ]
    },
    {
      "cell_type": "markdown",
      "metadata": {
        "id": "PSVgjBEYGVqn"
      },
      "source": [
        "Функция для расчёта $L_S(w)$:"
      ]
    },
    {
      "cell_type": "code",
      "metadata": {
        "id": "KS0UeNYIrHZ4"
      },
      "source": [
        "def logistic_regression_loss_BGD(X_data, y_data, weights, reg):\n",
        "    M_values = np.array([np.dot(x, weights) * y for x, y in zip(X_data, y_data)])\n",
        "    return np.mean([np.log(1 + np.exp(-M)) for M in M_values]) + reg * np.sum(weights ** 2) \n"
      ],
      "execution_count": 39,
      "outputs": []
    },
    {
      "cell_type": "markdown",
      "metadata": {
        "id": "ltrU87HyEcqe"
      },
      "source": [
        "Batch gradient descent:"
      ]
    },
    {
      "cell_type": "code",
      "metadata": {
        "id": "sAqJx4empqt9"
      },
      "source": [
        "def BGD(X_data, y_data, loss=logistic_regression_loss_BGD, gradient=gradient_logistic_regression, h=1e-4, reg=0.5):\n",
        "    eps = 1e-7\n",
        "    np.random.seed(16)\n",
        "    weights = np.random.random_sample(X_data.shape[1])\n",
        "    \n",
        "    Q = loss(X_data, y_data, weights, reg)\n",
        "    iter = 0\n",
        "    batch_size = 18\n",
        "    while True:\n",
        "        iter += 1\n",
        "        grads = []\n",
        "        for i in range(0, len(y_data), batch_size):\n",
        "            slice_batch = slice(i, min(i + batch_size, len(y_data)))\n",
        "            X_batch = X_data[slice_batch]\n",
        "            y_batch = y_data[slice_batch]\n",
        "            grad_L = np.sum([gradient(x, y, weights, reg) for x, y in zip(X_batch, y_batch)], axis=0)\n",
        "            grads.append(grad_L)\n",
        "        grad_L = np.mean(grads)\n",
        "        prev_weights = weights\n",
        "        weights = weights - h * grad_L\n",
        "        prev_Q = Q\n",
        "        Q = loss(X_data, y_data, weights, reg)\n",
        "        # print(f' Q = {Q}')\n",
        "        if abs(prev_Q - Q) < eps or np.all(np.absolute(weights - prev_weights) < eps) or  iter == 5000:\n",
        "            break\n",
        "    # print(iter)\n",
        "    return weights\n"
      ],
      "execution_count": 67,
      "outputs": []
    },
    {
      "cell_type": "markdown",
      "metadata": {
        "id": "jXVDbP7vEBQv"
      },
      "source": [
        "Результаты (первое значение - accuracy на кроссвалидации, второе - accuracy на тестовой выборке, третье - оптимальные параметры)."
      ]
    },
    {
      "cell_type": "code",
      "metadata": {
        "colab": {
          "base_uri": "https://localhost:8080/"
        },
        "id": "_WfyiXkQCBHk",
        "outputId": "8a332385-f3d9-4ac0-c190-e5f415fbff72"
      },
      "source": [
        "choose_params(X_train_setosa, X_test_setosa, y_train_setosa, y_test_setosa, algorithm=BGD)"
      ],
      "execution_count": 68,
      "outputs": [
        {
          "output_type": "stream",
          "text": [
            "/usr/local/lib/python3.6/dist-packages/ipykernel_launcher.py:12: DeprecationWarning: This function is deprecated. Please call randint(1, 135 + 1) instead\n",
            "  if sys.path[0] == '':\n"
          ],
          "name": "stderr"
        },
        {
          "output_type": "execute_result",
          "data": {
            "text/plain": [
              "(0.6592592592592592, 1.0, {'h': 0.01, 'reg': 0.1})"
            ]
          },
          "metadata": {
            "tags": []
          },
          "execution_count": 68
        }
      ]
    },
    {
      "cell_type": "code",
      "metadata": {
        "colab": {
          "base_uri": "https://localhost:8080/"
        },
        "id": "tY5L2gyPDC1W",
        "outputId": "4a98139f-2902-4987-c321-2bc0b66e8aa0"
      },
      "source": [
        "choose_params(X_train_versicolor, X_test_versicolor, y_train_versicolor, y_test_versicolor, algorithm=BGD)"
      ],
      "execution_count": 69,
      "outputs": [
        {
          "output_type": "stream",
          "text": [
            "/usr/local/lib/python3.6/dist-packages/ipykernel_launcher.py:12: DeprecationWarning: This function is deprecated. Please call randint(1, 135 + 1) instead\n",
            "  if sys.path[0] == '':\n"
          ],
          "name": "stderr"
        },
        {
          "output_type": "execute_result",
          "data": {
            "text/plain": [
              "(0.6592592592592592, 0.5333333333333333, {'h': 0.001, 'reg': 0.1})"
            ]
          },
          "metadata": {
            "tags": []
          },
          "execution_count": 69
        }
      ]
    },
    {
      "cell_type": "code",
      "metadata": {
        "colab": {
          "base_uri": "https://localhost:8080/"
        },
        "id": "k6CwTaDuDGDA",
        "outputId": "3c71ebb3-a52f-435e-8f3f-8dcfc2fc9670"
      },
      "source": [
        "choose_params(X_train_virginica, X_test_virginica, y_train_virginica, y_test_virginica, algorithm=BGD)"
      ],
      "execution_count": 70,
      "outputs": [
        {
          "output_type": "stream",
          "text": [
            "/usr/local/lib/python3.6/dist-packages/ipykernel_launcher.py:12: DeprecationWarning: This function is deprecated. Please call randint(1, 135 + 1) instead\n",
            "  if sys.path[0] == '':\n"
          ],
          "name": "stderr"
        },
        {
          "output_type": "execute_result",
          "data": {
            "text/plain": [
              "(0.6814814814814816, 0.8666666666666667, {'h': 0.01, 'reg': 0.1})"
            ]
          },
          "metadata": {
            "tags": []
          },
          "execution_count": 70
        }
      ]
    },
    {
      "cell_type": "markdown",
      "metadata": {
        "id": "eoOog-xcD3qZ"
      },
      "source": [
        "##Задание 3"
      ]
    },
    {
      "cell_type": "markdown",
      "metadata": {
        "id": "3nUnyV30D8gL"
      },
      "source": [
        "SGD:\n",
        "\n",
        "+ Высокая скорость работы\n",
        "+ Accuracy получилось лучше (на \"versicolor\") либо таким же (на \"setosa\" и \"virginica\")\n",
        "\n",
        "BGD:\n",
        "\n",
        "+ Не дал ни лучшей скорости, ни лучшего качества.\n",
        "\n",
        "Стоит заметить, что выборка, на которой проводились эксперименты, крайне мала. Поэтому вряд ли данные результаты можно назвать репрезентативными."
      ]
    }
  ]
}