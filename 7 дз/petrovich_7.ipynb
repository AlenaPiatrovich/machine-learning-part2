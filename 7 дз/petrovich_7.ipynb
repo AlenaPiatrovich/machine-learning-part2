{
  "nbformat": 4,
  "nbformat_minor": 0,
  "metadata": {
    "colab": {
      "name": "petrovich_7.ipynb",
      "provenance": [],
      "toc_visible": true
    },
    "kernelspec": {
      "name": "python3",
      "display_name": "Python 3"
    },
    "language_info": {
      "name": "python"
    }
  },
  "cells": [
    {
      "cell_type": "markdown",
      "metadata": {
        "id": "CXjvdGQxPRlS"
      },
      "source": [
        "#Лабораторная работа 7"
      ]
    },
    {
      "cell_type": "code",
      "metadata": {
        "colab": {
          "base_uri": "https://localhost:8080/"
        },
        "id": "_X2Tmcm7Q8lU",
        "outputId": "a5870e2c-f4ea-44d9-da50-f539973371d6"
      },
      "source": [
        " from sklearn.datasets import load_digits\n",
        " mnist = load_digits()\n",
        " X = mnist['images']\n",
        " X = X.reshape((X.shape[0], -1))\n",
        " y = mnist['target']\n",
        " X.shape"
      ],
      "execution_count": 107,
      "outputs": [
        {
          "output_type": "execute_result",
          "data": {
            "text/plain": [
              "(1797, 64)"
            ]
          },
          "metadata": {
            "tags": []
          },
          "execution_count": 107
        }
      ]
    },
    {
      "cell_type": "code",
      "metadata": {
        "id": "ODIUVtBVRvyR"
      },
      "source": [
        "from sklearn.model_selection import train_test_split\n",
        "X_train, X_test, y_train, y_test = train_test_split(X, y, test_size=0.3, random_state=42)"
      ],
      "execution_count": 108,
      "outputs": []
    },
    {
      "cell_type": "markdown",
      "metadata": {
        "id": "lJ2v16KNPZZ0"
      },
      "source": [
        "##Задание 1"
      ]
    },
    {
      "cell_type": "markdown",
      "metadata": {
        "id": "bRfeIAbHPcFM"
      },
      "source": [
        "###Задание 1.1"
      ]
    },
    {
      "cell_type": "code",
      "metadata": {
        "id": "Zpuv6fT0TNXm"
      },
      "source": [
        "import numpy as np"
      ],
      "execution_count": 109,
      "outputs": []
    },
    {
      "cell_type": "markdown",
      "metadata": {
        "id": "YxvlHan1U2QD"
      },
      "source": [
        "Training"
      ]
    },
    {
      "cell_type": "code",
      "metadata": {
        "id": "fK970uidO9oD",
        "colab": {
          "base_uri": "https://localhost:8080/"
        },
        "outputId": "8195f12e-af90-4bbc-ba38-7201e4978436"
      },
      "source": [
        "from sklearn.model_selection import train_test_split\n",
        "from sklearn.linear_model import LogisticRegression\n",
        "import time\n",
        "\n",
        "start = time.time()\n",
        "\n",
        "\n",
        "classifiers = []\n",
        "for i in range(10):\n",
        "    y_i = np.where(y_train == i, 1, 0)\n",
        "    # X_train, X_test, y_train, y_test = train_test_split(X, y_i, test_size=0.3, random_state=42)\n",
        "    cls = LogisticRegression(random_state=6, max_iter=1000)\n",
        "    cls.fit(X_train, y_i)\n",
        "    classifiers.append(cls)\n",
        "\n",
        "end = time.time()\n",
        "\n",
        "print(f'Training time: {end - start} s')\n"
      ],
      "execution_count": 110,
      "outputs": [
        {
          "output_type": "stream",
          "text": [
            "Training time: 2.1158971786499023 s\n"
          ],
          "name": "stdout"
        }
      ]
    },
    {
      "cell_type": "code",
      "metadata": {
        "id": "iRX-Q89tUb0b"
      },
      "source": [
        "probs = np.zeros((len(y_test), 10))\n",
        "\n",
        "for i in range(10):\n",
        "    probs[:, i] = classifiers[i].predict_proba(X_test)[:,1]"
      ],
      "execution_count": 111,
      "outputs": []
    },
    {
      "cell_type": "code",
      "metadata": {
        "id": "ScV32L9VejJH"
      },
      "source": [
        "y_pred = np.argmax(probs, axis=-1)"
      ],
      "execution_count": 112,
      "outputs": []
    },
    {
      "cell_type": "code",
      "metadata": {
        "colab": {
          "base_uri": "https://localhost:8080/"
        },
        "id": "RIZg-hOYV8Jf",
        "outputId": "ec3377ec-efa8-4d25-8bd0-30a673bd7b76"
      },
      "source": [
        "from sklearn.metrics import accuracy_score\n",
        "accuracy_score(y_test, y_pred)"
      ],
      "execution_count": 113,
      "outputs": [
        {
          "output_type": "execute_result",
          "data": {
            "text/plain": [
              "0.9592592592592593"
            ]
          },
          "metadata": {
            "tags": []
          },
          "execution_count": 113
        }
      ]
    },
    {
      "cell_type": "markdown",
      "metadata": {
        "id": "Q0qn0zilFE9n"
      },
      "source": [
        "###Задание 1.2"
      ]
    },
    {
      "cell_type": "code",
      "metadata": {
        "colab": {
          "base_uri": "https://localhost:8080/"
        },
        "id": "YezYHKYGFJ2-",
        "outputId": "02c90869-8bbf-4c4e-9201-f40e8ee25139"
      },
      "source": [
        "start = time.time()\n",
        "\n",
        "classifiers_one_vs_one = []\n",
        "for i in range(10):\n",
        "    cls_i = []\n",
        "    for j in range(i+1, 10):\n",
        "        mask_i_j = np.array(y_train == i) | np.array(y_train == j)\n",
        "\n",
        "\n",
        "        X_i_j = X_train[mask_i_j]\n",
        "        y_i_j = y_train[mask_i_j]\n",
        "  \n",
        "        y_i_j = np.where(y_i_j == i, 1, 0)\n",
        "\n",
        "        assert len(y_i_j) == len(X_i_j) \n",
        "       \n",
        "\n",
        "        cls_i_j = LogisticRegression(random_state=i*j, max_iter=1000)\n",
        "        cls_i_j.fit(X_i_j, y_i_j)\n",
        "\n",
        "        cls_i.append(cls_i_j)\n",
        "    classifiers_one_vs_one.append(cls_i)\n",
        "\n",
        "\n",
        "\n",
        "end = time.time()\n",
        "\n",
        "print(f'Training time: {end - start} s')"
      ],
      "execution_count": 114,
      "outputs": [
        {
          "output_type": "stream",
          "text": [
            "Training time: 1.5068109035491943 s\n"
          ],
          "name": "stdout"
        }
      ]
    },
    {
      "cell_type": "code",
      "metadata": {
        "id": "dzxH0BVxWPWt"
      },
      "source": [
        "probs = np.zeros((len(y_test), 10, 10))\n",
        "\n",
        "for i in range(10):\n",
        "    for j in range(i + 1, 10):\n",
        "        cls_i_j = classifiers_one_vs_one[i][j - i - 1]\n",
        "        probs_pred =  cls_i_j.predict_proba(X_test)\n",
        "        probs[:, i, j] = probs_pred[:, 1]\n",
        "        probs[:, j, i] = probs_pred[:, 0]\n",
        "        '''print(i,j)\n",
        "        print(probs[:, i, j])'''\n",
        "\n",
        "y_pred_one_vs_one = np.argmax(probs.sum(axis=2), axis=1)"
      ],
      "execution_count": 115,
      "outputs": []
    },
    {
      "cell_type": "code",
      "metadata": {
        "colab": {
          "base_uri": "https://localhost:8080/"
        },
        "id": "pnQ3twkpYtSt",
        "outputId": "bc300ed9-ea31-4f89-980f-496f334db908"
      },
      "source": [
        "accuracy_score(y_pred_one_vs_one, y_test)"
      ],
      "execution_count": 116,
      "outputs": [
        {
          "output_type": "execute_result",
          "data": {
            "text/plain": [
              "0.987037037037037"
            ]
          },
          "metadata": {
            "tags": []
          },
          "execution_count": 116
        }
      ]
    },
    {
      "cell_type": "markdown",
      "metadata": {
        "id": "XIAYnCUYiQKq"
      },
      "source": [
        "###Отчёт"
      ]
    },
    {
      "cell_type": "markdown",
      "metadata": {
        "id": "-oQkStJviVni"
      },
      "source": [
        "* Исходный датасет не модифицировался (помимо преобразования объектов из двумерных массивов в одномерные).\n",
        "\n",
        "* Данные были разбиты на тренировочную и тестовую выборки в соотношении 7:3.\n",
        "\n",
        "* В качестве метрики для оценки качества была выбрана accuracy.\n",
        "\n",
        "* One vs One даёт лучшее качествою.\n",
        "\n",
        "* Сложность One vs Rest - $O(k * n) = O(kn)$, One vs One - $O(k^2 * n/k) = O(k n)$, где $k$ - количество классов, $n$ - количество объектов. \n",
        "\n",
        "* One vs One на практике обучился быстрее. Это связано с тем, что при One vs Rest для обучения на одной итерации использовалась вся выборка, а для One vs One - где-то 20%.\n",
        "\n",
        "* One vs Rest:\n",
        "\n",
        "  $+$ Обучает меньше классификаторов\n",
        "\n",
        "  $*$ Стоит использовать, когда классы не сбалансированы и когда много данных.\n",
        "\n",
        "  One vs One:\n",
        "\n",
        "  $+$ Классификаторы обучаются на сбалансированных выборках (если классы сбалансированны)\n",
        "\n",
        "   $+$ На практике обучается быстрее (если классы сбалансированны)\n",
        "\n",
        "   $*$ Стоит использовать, когда классы сбалансированы и/или когда мало данных.\n",
        "\n",
        "\n"
      ]
    },
    {
      "cell_type": "markdown",
      "metadata": {
        "id": "mp28ooeJy_HB"
      },
      "source": [
        "##Задание 2"
      ]
    },
    {
      "cell_type": "markdown",
      "metadata": {
        "id": "xW1D-itqzD_J"
      },
      "source": [
        "Выразим $\\hat{y}$\n",
        "\n",
        "$\\hat{y} = argmax_{y' \\in Y}(\\Delta(y', y) + < w^{(+)}, \\psi (x,y') - \\psi(x,y)) = [\\psi(x,y) = \\sum_{i=1}^r \\Phi(x, y_i, y_{i-1}), \\Delta(y', y) = \\sum_{i=1}^r \\delta(y_i, y_{i-1})] = argmax_{y' \\in Y}(\\sum_{i=1}^r (\\delta(y_i, y_{i-1}) + < w, \\Phi(x, y'_i, y'_{i-1}) - \\Phi(x, y_i, y_{i-1}) >)) = [ \\Phi(x, y_i, y_{i-1}) = const, w=const  ] = argmax_{y' \\in Y}(\\sum_{i=1}^r (\\delta(y_i, y_{i-1}) + < w, \\Phi(x, y'_i, y'_{i-1})>))$\n",
        "\n",
        "Определим функцию:\n",
        "\n",
        "$F_{t, s} = \\max_{(y'_1, \\dots , y'_{t-1}, y'_t = s)} (\\sum_{i=1}^t (\\delta(y'_i, y_i) + < w, \\Phi (x, y'_i, y'_{i-1}) >))$\n",
        "\n",
        "Тогда можно записать следующее рекурсивное выражение:\n",
        "\n",
        "$F_{t, s} = \\max_{(y'_1, \\dots , y'_{t-1}, y'_t = s)}  (F_{t - 1, y'_{t-1}} + \\delta(s,y_t) + < w, \\Phi (x, s, y'_{t-1}) >)$\n"
      ]
    },
    {
      "cell_type": "markdown",
      "metadata": {
        "id": "xg7UzjXaeu77"
      },
      "source": [
        "##Задание 3"
      ]
    },
    {
      "cell_type": "code",
      "metadata": {
        "colab": {
          "base_uri": "https://localhost:8080/"
        },
        "id": "h6HiwdHnfyty",
        "outputId": "7f8fb599-d523-4ba2-b891-d88def708f50"
      },
      "source": [
        "from sklearn.svm import LinearSVC\n",
        "\n",
        "start = time.time()\n",
        "\n",
        "svm = LinearSVC(random_state=42,  max_iter=300000)\n",
        "svm.fit(X_train, y_train)\n",
        "y_pred = svm.predict(X_test)\n",
        "\n",
        "end = time.time()\n",
        "\n",
        "print(f'Training time: {end - start} s')"
      ],
      "execution_count": 152,
      "outputs": [
        {
          "output_type": "stream",
          "text": [
            "Training time: 7.9218738079071045 s\n"
          ],
          "name": "stdout"
        }
      ]
    },
    {
      "cell_type": "code",
      "metadata": {
        "colab": {
          "base_uri": "https://localhost:8080/"
        },
        "id": "HBPPeA1AhrwG",
        "outputId": "a873c2b1-18e6-4a87-fe3d-2a155ec5e62e"
      },
      "source": [
        "y_pred_train = svm.predict(X_train)\n",
        "accuracy_score(y_pred_train, y_train)"
      ],
      "execution_count": 153,
      "outputs": [
        {
          "output_type": "execute_result",
          "data": {
            "text/plain": [
              "0.9984089101034208"
            ]
          },
          "metadata": {
            "tags": []
          },
          "execution_count": 153
        }
      ]
    },
    {
      "cell_type": "code",
      "metadata": {
        "colab": {
          "base_uri": "https://localhost:8080/"
        },
        "id": "jquI3FRNhFp7",
        "outputId": "52e6df0c-dee9-4a18-b6fd-0c1a64e8c114"
      },
      "source": [
        "accuracy_score(y_pred, y_test)"
      ],
      "execution_count": 154,
      "outputs": [
        {
          "output_type": "execute_result",
          "data": {
            "text/plain": [
              "0.9351851851851852"
            ]
          },
          "metadata": {
            "tags": []
          },
          "execution_count": 154
        }
      ]
    },
    {
      "cell_type": "markdown",
      "metadata": {
        "id": "YNaneAfUkn83"
      },
      "source": [
        "###Отчёт"
      ]
    },
    {
      "cell_type": "markdown",
      "metadata": {
        "id": "HacK4qL8ku5-"
      },
      "source": [
        "* Точность на тренировочной выборке - 0.9984, а на тестовой - 0.9352. Можно предположить, что алгоритм переобучился из-за большого количества итераций, но нет. Если уменьшать max_iter, качество на тестовой выборке ещё ниже.\n",
        "\n",
        "* По сравнению с алгоритмами из Задания 1 SVM обучался гораздо дольше."
      ]
    }
  ]
}