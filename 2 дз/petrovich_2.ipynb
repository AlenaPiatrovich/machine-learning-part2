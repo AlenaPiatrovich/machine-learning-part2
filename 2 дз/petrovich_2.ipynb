{
  "nbformat": 4,
  "nbformat_minor": 0,
  "metadata": {
    "colab": {
      "name": "Untitled7.ipynb",
      "provenance": []
    },
    "kernelspec": {
      "name": "python3",
      "display_name": "Python 3"
    }
  },
  "cells": [
    {
      "cell_type": "markdown",
      "metadata": {
        "id": "mleCUgnNrPjH"
      },
      "source": [
        "#Домашнее задание 2"
      ]
    },
    {
      "cell_type": "markdown",
      "metadata": {
        "id": "Tzetc_i5rbmY"
      },
      "source": [
        "##Данные"
      ]
    },
    {
      "cell_type": "code",
      "metadata": {
        "id": "FwgmNxTJra6h"
      },
      "source": [
        "import numpy as np\n",
        "import pandas as pd\n",
        "from matplotlib import pyplot as plt"
      ],
      "execution_count": 120,
      "outputs": []
    },
    {
      "cell_type": "code",
      "metadata": {
        "id": "IzD1A4oxrvFj"
      },
      "source": [
        "from sklearn.datasets import load_boston\n",
        "df = load_boston()"
      ],
      "execution_count": 121,
      "outputs": []
    },
    {
      "cell_type": "code",
      "metadata": {
        "id": "4h41SUn6t_um"
      },
      "source": [
        "feature_names = df['feature_names']\n",
        "X = df['data']\n",
        "y = df['target']"
      ],
      "execution_count": 122,
      "outputs": []
    },
    {
      "cell_type": "code",
      "metadata": {
        "id": "FaDoZdaWvCiq"
      },
      "source": [
        "from sklearn.preprocessing import scale\n",
        "X = scale(X)"
      ],
      "execution_count": 123,
      "outputs": []
    },
    {
      "cell_type": "markdown",
      "metadata": {
        "id": "USCA5aeAxxzT"
      },
      "source": [
        "##Задание 1"
      ]
    },
    {
      "cell_type": "markdown",
      "metadata": {
        "id": "qD6WfPx304wn"
      },
      "source": [
        "Функция для графика:"
      ]
    },
    {
      "cell_type": "code",
      "metadata": {
        "id": "Fm7RfThe4M13"
      },
      "source": [
        "def plot_correlation(correlations):\n",
        "    plt.rcParams[\"figure.figsize\"] = (14, 10)\n",
        "    ind = range(len(feature_names))\n",
        "    plt.bar(ind, correlations, color='red')\n",
        "    plt.xticks(ind, feature_names)\n",
        "    plt.ylabel('absolute value of correlation')\n",
        "    plt.xlabel('features')\n",
        "    plt.title('Pearson correlation coefficients', size=18)\n",
        "    plt.grid()\n",
        "    plt.show()"
      ],
      "execution_count": 124,
      "outputs": []
    },
    {
      "cell_type": "markdown",
      "metadata": {
        "id": "NvzLLuyf1AJf"
      },
      "source": [
        "Реализация Filter метода:"
      ]
    },
    {
      "cell_type": "code",
      "metadata": {
        "id": "iHJ9yvrqx02q"
      },
      "source": [
        "def filter_method(X_data, y_data, n=5):\n",
        "    n_features = X_data.shape[1]\n",
        "    n_objects = X_data.shape[0]\n",
        "    y_mean = np.mean(y_data)\n",
        "    v_mean = np.mean(X_data, axis=0)\n",
        "    Pearson_correlation = []\n",
        "    for ind in range(n_features):\n",
        "        v = X_data[:, ind] \n",
        "        correlation = np.dot(v - v_mean[ind], y_data - y_mean) / np.linalg.norm(v - v_mean[ind]) / np.linalg.norm(y_data - y_mean)\n",
        "        Pearson_correlation.append(correlation)\n",
        "    Pearson_correlation = np.abs(Pearson_correlation)\n",
        "    plot_correlation(Pearson_correlation)\n",
        "\n",
        "    return np.argpartition(Pearson_correlation, -n)[-n:]"
      ],
      "execution_count": 125,
      "outputs": []
    },
    {
      "cell_type": "code",
      "metadata": {
        "colab": {
          "base_uri": "https://localhost:8080/",
          "height": 625
        },
        "id": "RJo-mKQgytCq",
        "outputId": "54a6ee2e-adf0-4cc7-fb02-a541dcced3d7"
      },
      "source": [
        "features_filter = filter_method(X, y, n=5)"
      ],
      "execution_count": 126,
      "outputs": [
        {
          "output_type": "display_data",
          "data": {
            "image/png": "[encoded data removed]",
            "text/plain": [
              "<Figure size 1008x720 with 1 Axes>"
            ]
          },
          "metadata": {
            "tags": [],
            "needs_background": "light"
          }
        }
      ]
    },
    {
      "cell_type": "markdown",
      "metadata": {
        "id": "XxBtzr7Q8B9N"
      },
      "source": [
        "5 лучших признаков по версии Filter:"
      ]
    },
    {
      "cell_type": "code",
      "metadata": {
        "colab": {
          "base_uri": "https://localhost:8080/"
        },
        "id": "IitKkpgP7894",
        "outputId": "92974640-6fb7-4921-ccfa-a0e93cb9735b"
      },
      "source": [
        "feature_names[features_filter]"
      ],
      "execution_count": 127,
      "outputs": [
        {
          "output_type": "execute_result",
          "data": {
            "text/plain": [
              "array(['TAX', 'INDUS', 'PTRATIO', 'RM', 'LSTAT'], dtype='<U7')"
            ]
          },
          "metadata": {
            "tags": []
          },
          "execution_count": 127
        }
      ]
    },
    {
      "cell_type": "markdown",
      "metadata": {
        "id": "o6zlEw6j8G9g"
      },
      "source": [
        "##Задание 2"
      ]
    },
    {
      "cell_type": "markdown",
      "metadata": {
        "id": "lm_QOCbe1NPg"
      },
      "source": [
        "Реализация Greedy Forward Selection:"
      ]
    },
    {
      "cell_type": "code",
      "metadata": {
        "id": "hLLYkIr6QCMb"
      },
      "source": [
        "from sklearn.linear_model import LinearRegression\n",
        "from sklearn.model_selection import train_test_split\n",
        "from sklearn.metrics import mean_squared_error\n",
        "import math \n",
        "\n",
        "\n",
        "\n",
        "def greedy_forward_method(X_data, y_data, n=5):\n",
        "    X_train, X_test, y_train, y_test = train_test_split(X_data, y_data, test_size=0.2, random_state=6)\n",
        "    \n",
        "    features = []\n",
        "    unused_features = list(range(X_data.shape[1]))\n",
        "    for i in range(n):\n",
        "        min_error = math.inf\n",
        "        best_feature = None\n",
        "        # print(f'features: {features}')\n",
        "        for j in unused_features:\n",
        "            model = LinearRegression()\n",
        "            train_data = X_train[:, features + [j]]\n",
        "            model.fit(train_data, y_train)\n",
        "\n",
        "            test_data = X_test[:, features + [j]]\n",
        "            y_pred = model.predict(test_data)\n",
        "            error = mean_squared_error(y_test, y_pred)\n",
        "            # print(f' j: {j}, error: {error}')\n",
        "            if error < min_error:\n",
        "                min_error = error\n",
        "                best_feature = j\n",
        "        \n",
        "        if best_feature:\n",
        "            unused_features.remove(best_feature)\n",
        "            features.append(best_feature)\n",
        "        else:\n",
        "            break\n",
        "                \n",
        "    return features"
      ],
      "execution_count": 128,
      "outputs": []
    },
    {
      "cell_type": "markdown",
      "metadata": {
        "id": "2V4WoElC1Wwf"
      },
      "source": [
        "5 лучших признаков по версии Greedy Forward Selection:"
      ]
    },
    {
      "cell_type": "code",
      "metadata": {
        "colab": {
          "base_uri": "https://localhost:8080/"
        },
        "id": "2X0vXgrNRcxZ",
        "outputId": "4fb4ae93-4cbc-4cf6-d38e-ce471e4951df"
      },
      "source": [
        "features_forward = greedy_forward_method(X, y)\n",
        "\n",
        "feature_names[features_forward]"
      ],
      "execution_count": 129,
      "outputs": [
        {
          "output_type": "execute_result",
          "data": {
            "text/plain": [
              "array(['LSTAT', 'RM', 'PTRATIO', 'B', 'CHAS'], dtype='<U7')"
            ]
          },
          "metadata": {
            "tags": []
          },
          "execution_count": 129
        }
      ]
    },
    {
      "cell_type": "markdown",
      "metadata": {
        "id": "KvWUjT9n1foF"
      },
      "source": [
        "Реалиация Greedy Backward Elimination:"
      ]
    },
    {
      "cell_type": "code",
      "metadata": {
        "id": "_s6GR8sxV5g0"
      },
      "source": [
        "from sklearn.linear_model import LinearRegression\n",
        "from sklearn.model_selection import train_test_split\n",
        "from sklearn.metrics import mean_squared_error\n",
        "import math \n",
        "\n",
        "\n",
        "\n",
        "def greedy_backward_method(X_data, y_data, n=5):\n",
        "    X_train, X_test, y_train, y_test = train_test_split(X_data, y_data, test_size=0.2, random_state=6)\n",
        "    \n",
        "    features = list(range(X_data.shape[1]))\n",
        "    for i in range(len(features) - n):\n",
        "        min_error = math.inf\n",
        "        worst_feature = None\n",
        "        # print(f'features: {features}')\n",
        "        for j in features:\n",
        "            model = LinearRegression()\n",
        "            features_copy = features.copy()\n",
        "            features_copy.remove(j)\n",
        "            train_data = X_train[:, features_copy]\n",
        "            model.fit(train_data, y_train)\n",
        "\n",
        "            test_data = X_test[:, features_copy]\n",
        "            y_pred = model.predict(test_data)\n",
        "            error = mean_squared_error(y_test, y_pred)\n",
        "            # print(f' j: {j}, error: {error}')\n",
        "            if error < min_error:\n",
        "                min_error = error\n",
        "                worst_feature = j\n",
        "        \n",
        "        if worst_feature:\n",
        "            features.remove(worst_feature)\n",
        "        else:\n",
        "            break\n",
        "                \n",
        "    return features"
      ],
      "execution_count": 130,
      "outputs": []
    },
    {
      "cell_type": "markdown",
      "metadata": {
        "id": "cVoDc2b01o_b"
      },
      "source": [
        "5 лучших признаков по версии Greedy Backward Elimination:"
      ]
    },
    {
      "cell_type": "code",
      "metadata": {
        "colab": {
          "base_uri": "https://localhost:8080/"
        },
        "id": "WkZiv4DmW32C",
        "outputId": "ec86226d-72d4-42b7-80ba-fd0d248dafcb"
      },
      "source": [
        "features_backward = greedy_backward_method(X, y)\n",
        "\n",
        "feature_names[features_backward]"
      ],
      "execution_count": 131,
      "outputs": [
        {
          "output_type": "execute_result",
          "data": {
            "text/plain": [
              "array(['CRIM', 'NOX', 'RM', 'DIS', 'PTRATIO'], dtype='<U7')"
            ]
          },
          "metadata": {
            "tags": []
          },
          "execution_count": 131
        }
      ]
    },
    {
      "cell_type": "markdown",
      "metadata": {
        "id": "w6tJvZwKYaE_"
      },
      "source": [
        "##Задание 3"
      ]
    },
    {
      "cell_type": "markdown",
      "metadata": {
        "id": "lzLBtMg38vPN"
      },
      "source": [
        "Лассо штрафует весовые коэффициенты модели для изменения их важности для модели и может даже обнулить их (т.е. убрать эти переменные из конечной модели). Обычно Лассо используется, если набор данных содержит большое число переменных и требуется исключить некоторые из них, чтобы лучше понять, как важные признаки влияют на модель (т.е. те признаки, которые были выбраны Лассо и у которых установлена важность).\n",
        "\n",
        "Настраивать вклад регулязирующего оператора помогает параметр лямбда. Чем больше лямбда, тем больше весов обнуляется, то есть тем больше признаков \"выбрасывается\". Для того, чтобы найти нужное значение параметра лямбда, будем перебирать значение лямбда по сетке от 0.1 до 7.0 ."
      ]
    },
    {
      "cell_type": "code",
      "metadata": {
        "id": "RNg_wbEfb8BL"
      },
      "source": [
        "from sklearn.linear_model import Lasso\n",
        "\n",
        "def lasso_method(X_data, y_data, lam):\n",
        "    model = Lasso(lam)\n",
        "    model.fit(X, y)\n",
        "    return np.where(model.coef_ != 0.)[0]"
      ],
      "execution_count": 132,
      "outputs": []
    },
    {
      "cell_type": "markdown",
      "metadata": {
        "id": "coMGIefZH8Y9"
      },
      "source": [
        "Переберём значения ламбда от 0.1 до 7.0 ."
      ]
    },
    {
      "cell_type": "code",
      "metadata": {
        "id": "l4OOWmwyYdqd"
      },
      "source": [
        "lam_vars = np.linspace(0.1, 7, num=20)\n",
        "features_nonzero = []\n",
        "for lam in lam_vars:\n",
        "    model = Lasso(lam)\n",
        "    model.fit(X, y)\n",
        "    features_nonzero.append(len(lasso_method(X, y, lam)))"
      ],
      "execution_count": 133,
      "outputs": []
    },
    {
      "cell_type": "code",
      "metadata": {
        "colab": {
          "base_uri": "https://localhost:8080/",
          "height": 625
        },
        "id": "2CSA01dbaiMv",
        "outputId": "3e01828d-a40f-4c33-f55d-c9898ec1ee8f"
      },
      "source": [
        "plt.plot(lam_vars, features_nonzero, color='red')\n",
        "plt.xticks(lam_vars)\n",
        "plt.yticks(range(12))\n",
        "plt.ylabel('number of nonzero features')\n",
        "plt.xlabel('lambda')\n",
        "plt.title('Nonzero coefficients', size=18)\n",
        "plt.grid()\n",
        "plt.show()"
      ],
      "execution_count": 144,
      "outputs": [
        {
          "output_type": "display_data",
          "data": {
            "image/png": "[encoded data removed]",
            "text/plain": [
              "<Figure size 1008x720 with 1 Axes>"
            ]
          },
          "metadata": {
            "tags": [],
            "needs_background": "light"
          }
        }
      ]
    },
    {
      "cell_type": "markdown",
      "metadata": {
        "id": "ZUlTWRF72CI6"
      },
      "source": [
        "5 лучших признаков по версии Lasso:"
      ]
    },
    {
      "cell_type": "code",
      "metadata": {
        "colab": {
          "base_uri": "https://localhost:8080/"
        },
        "id": "4K_ZmLaUbXzP",
        "outputId": "72a570c3-c986-49dd-ed76-40ec192cc1ff"
      },
      "source": [
        "lam = 0.826\n",
        "features_lasso = lasso_method(X, y, lam)\n",
        "feature_names[features_lasso]"
      ],
      "execution_count": 135,
      "outputs": [
        {
          "output_type": "execute_result",
          "data": {
            "text/plain": [
              "array(['CHAS', 'RM', 'PTRATIO', 'B', 'LSTAT'], dtype='<U7')"
            ]
          },
          "metadata": {
            "tags": []
          },
          "execution_count": 135
        }
      ]
    },
    {
      "cell_type": "markdown",
      "metadata": {
        "id": "gJVtz09ewPOK"
      },
      "source": [
        "##Финальные результаты"
      ]
    },
    {
      "cell_type": "code",
      "metadata": {
        "id": "317Orh93wT_4"
      },
      "source": [
        "X_train, X_test, y_train, y_test = train_test_split(X, y, test_size=0.2, random_state=16)"
      ],
      "execution_count": 136,
      "outputs": []
    },
    {
      "cell_type": "code",
      "metadata": {
        "id": "VeKGjPegwqdO"
      },
      "source": [
        "def train_features(features):\n",
        "    X_train_features = X_train[:, features]\n",
        "    X_test_features = X_test[:, features]\n",
        "\n",
        "    model = LinearRegression()\n",
        "    model.fit(X_train_features, y_train)\n",
        "\n",
        "    y_pred = model.predict(X_test_features)\n",
        "    \n",
        "    print(f'features: {feature_names[features]}, mse: {mean_squared_error(y_test, y_pred)}')\n",
        "    print('---------------------------------------------------------------------------')"
      ],
      "execution_count": 141,
      "outputs": []
    },
    {
      "cell_type": "code",
      "metadata": {
        "colab": {
          "base_uri": "https://localhost:8080/"
        },
        "id": "X_MtqQEix3Qs",
        "outputId": "b8c84682-357f-4442-c834-d9454241e057"
      },
      "source": [
        "print('Filter: ')\n",
        "train_features(features_filter)\n",
        "print('Greedy Forward Selection: ')\n",
        "train_features(features_forward)\n",
        "print('Greedy Backward Elimination: ')\n",
        "train_features(features_backward)\n",
        "print('Lasso: ')\n",
        "train_features(features_lasso)"
      ],
      "execution_count": 146,
      "outputs": [
        {
          "output_type": "stream",
          "text": [
            "Filter: \n",
            "features: ['TAX' 'INDUS' 'PTRATIO' 'RM' 'LSTAT'], mse: 27.57474327511821\n",
            "---------------------------------------------------------------------------\n",
            "Greedy Forward Selection: \n",
            "features: ['LSTAT' 'RM' 'PTRATIO' 'B' 'CHAS'], mse: 25.90044262256323\n",
            "---------------------------------------------------------------------------\n",
            "Greedy Backward Elimination: \n",
            "features: ['CRIM' 'NOX' 'RM' 'DIS' 'PTRATIO'], mse: 22.13415534924071\n",
            "---------------------------------------------------------------------------\n",
            "Lasso: \n",
            "features: ['CHAS' 'RM' 'PTRATIO' 'B' 'LSTAT'], mse: 25.900442622563205\n",
            "---------------------------------------------------------------------------\n"
          ],
          "name": "stdout"
        }
      ]
    },
    {
      "cell_type": "markdown",
      "metadata": {
        "id": "Ct-R8ZSSzSjg"
      },
      "source": [
        "Лучший результат дала модель, обученная на признаках, выбранных с помощью Greedy Backward Elimination."
      ]
    }
  ]
}